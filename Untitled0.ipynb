{
  "nbformat": 4,
  "nbformat_minor": 0,
  "metadata": {
    "colab": {
      "name": "Untitled0.ipynb",
      "provenance": [],
      "authorship_tag": "ABX9TyOpl1HOB9mh3bTm6U/4Py1R",
      "include_colab_link": true
    },
    "kernelspec": {
      "name": "python3",
      "display_name": "Python 3"
    }
  },
  "cells": [
    {
      "cell_type": "markdown",
      "metadata": {
        "id": "view-in-github",
        "colab_type": "text"
      },
      "source": [
        "<a href=\"https://colab.research.google.com/github/victordelangelss/metodos-numericos/blob/main/Untitled0.ipynb\" target=\"_parent\"><img src=\"https://colab.research.google.com/assets/colab-badge.svg\" alt=\"Open In Colab\"/></a>"
      ]
    },
    {
      "cell_type": "code",
      "metadata": {
        "id": "lJlfxtWLIJdK",
        "outputId": "2f4e6e53-d110-42ec-c08d-5a3f1df15e03",
        "colab": {
          "base_uri": "https://localhost:8080/"
        }
      },
      "source": [
        "lista= [2,3,5,7,11,13,17,19,23,29,31,37]\n",
        "print(\"numeros primos del 1 al 1000\")\n",
        "i = 1\n",
        "for i in range(1,1001):\n",
        "  x = True\n",
        "  if i != 2 and i !=3 and i != 5 and i != 7 and i != 11 and i != 17\\\n",
        "   and i != 19 and i != 23 and i != 29 and i != 31 and i != 37:\n",
        "\n",
        "    for y in range(0,12):\n",
        "      if i%(lista[y]) == 0:\n",
        "        x = False\n",
        "    if x == True:\n",
        "      print(i,end=\",\")\n",
        "  else:\n",
        "    if x == True:\n",
        "      print(i,end=\",\")"
      ],
      "execution_count": 17,
      "outputs": [
        {
          "output_type": "stream",
          "text": [
            "numeros primos del 1 al 1000\n",
            "1,2,3,5,7,11,17,19,23,29,31,37,41,43,47,53,59,61,67,71,73,79,83,89,97,101,103,107,109,113,127,131,137,139,149,151,157,163,167,173,179,181,191,193,197,199,211,223,227,229,233,239,241,251,257,263,269,271,277,281,283,293,307,311,313,317,331,337,347,349,353,359,367,373,379,383,389,397,401,409,419,421,431,433,439,443,449,457,461,463,467,479,487,491,499,503,509,521,523,541,547,557,563,569,571,577,587,593,599,601,607,613,617,619,631,641,643,647,653,659,661,673,677,683,691,701,709,719,727,733,739,743,751,757,761,769,773,787,797,809,811,821,823,827,829,839,853,857,859,863,877,881,883,887,907,911,919,929,937,941,947,953,967,971,977,983,991,997,"
          ],
          "name": "stdout"
        }
      ]
    }
  ]
}